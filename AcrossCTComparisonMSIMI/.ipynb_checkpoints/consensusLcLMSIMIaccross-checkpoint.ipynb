{
 "cells": [
  {
   "cell_type": "markdown",
   "id": "eb428557-c85e-4bf5-b122-75a91437d892",
   "metadata": {},
   "source": [
    "# Evaluating the performance of the CENTRE.MI.MSI consensus LcL classifier accross CT when using MI and MSI features from other cell types"
   ]
  },
  {
   "cell_type": "markdown",
   "id": "14136dc8-383b-438b-a630-c2869be0d80c",
   "metadata": {},
   "source": [
    "In this case MI and MSI features are recomputed using IS and DI across CT"
   ]
  },
  {
   "cell_type": "code",
   "execution_count": 1,
   "id": "7847449a-95d6-4c1f-bb79-302206fcded6",
   "metadata": {},
   "outputs": [],
   "source": [
    "import pandas as pd\n",
    "from sklearn.ensemble import GradientBoostingClassifier\n",
    "import numpy as np # calculate the mean and standard deviation\n",
    "import xgboost as xgb # XGBoost stuff\n",
    "from xgboost import plot_importance\n",
    "from sklearn.model_selection import train_test_split # split  data into training and testing sets\n",
    "from sklearn.model_selection import RandomizedSearchCV\n",
    "from sklearn.model_selection import GridSearchCV # cross validation\n",
    "from sklearn.metrics import confusion_matrix # creates a confusion matrix\n",
    "#from sklearn.metrics import plot_confusion_matrix # draws a confusion matrix\n",
    "from sklearn.metrics import precision_recall_curve\n",
    "from sklearn.metrics import f1_score\n",
    "from sklearn.metrics import auc\n",
    "from matplotlib import pyplot\n",
    "from sklearn.model_selection import StratifiedKFold\n",
    "from sklearn.model_selection import StratifiedKFold, cross_val_score\n",
    "from sklearn.model_selection import KFold, cross_val_score\n",
    "from numpy import sort"
   ]
  },
  {
   "cell_type": "code",
   "execution_count": 2,
   "id": "130f26ef-6ca0-4d20-8a9a-babd37a5dc3e",
   "metadata": {},
   "outputs": [],
   "source": [
    "#### Load the CENTRE.MI.MSI classifier\n",
    "CENTREMIMSI = xgb.Booster()\n",
    "CENTREMIMSI.load_model(\"/home/lopez_s/CRUP_scores/CENTRE_HiC/Training/CENTRE_HiC_classifiers/consensusLcL10kb_model.txt\") "
   ]
  },
  {
   "cell_type": "code",
   "execution_count": 3,
   "id": "ff50aa1c-fb1d-4cd8-b6c2-25c1af15041c",
   "metadata": {},
   "outputs": [],
   "source": [
    "##General paths and suffixes\n",
    "suffixMIMSI = \"-Benchmark.MI.MSI.v38.csv\"\n",
    "suffixBENGI = \"-Benchmark.v38.txt\"\n",
    "rootMIMSI = \"/project/CRUP_scores/CENTRE_HiC/Training/BENGI_MSI_MI_datasets/10Kb/\"\n",
    "rootBENGI = \"/project/CRUP_scores/toSara/BENGI_processed_datasets/\""
   ]
  },
  {
   "cell_type": "code",
   "execution_count": 4,
   "id": "b9d19131-92bd-42fe-9274-f1211a2a5d84",
   "metadata": {},
   "outputs": [],
   "source": [
    "sample = \"consensusLcL\"\n",
    "consensusLcLMSIMI = pd.read_csv(rootMIMSI+sample+suffixMIMSI, \n",
    "                 header=0, sep=',')"
   ]
  },
  {
   "cell_type": "code",
   "execution_count": 5,
   "id": "131ad33a-c490-40fe-a094-dc36eca845f3",
   "metadata": {},
   "outputs": [
    {
     "name": "stdout",
     "output_type": "stream",
     "text": [
      "['pair', 'gene_id1', 'gene_id', 'symbol38', 'symbol19', 'pair19', 'label', 'CV', 'EP_prob_enh.1', 'EP_prob_enh.2', 'EP_prob_enh.3', 'EP_prob_enh.4', 'EP_prob_enh.5', 'EP_prob_gene.1', 'EP_prob_gene.2', 'EP_prob_gene.3', 'EP_prob_gene.4', 'EP_prob_gene.5', 'PP_prob_enh.1', 'PP_prob_enh.2', 'PP_prob_enh.3', 'PP_prob_enh.4', 'PP_prob_enh.5', 'PP_prob_gene.1', 'PP_prob_gene.2', 'PP_prob_gene.3', 'PP_prob_gene.4', 'PP_prob_gene.5', 'distance', 'cor_CRUP', 'combined_tests', 'reg_dist_enh', 'norm_reg_dist_enh', 'reg_dist_prom', 'norm_reg_dist_prom', 'RNA_seq', 'min_insulation', 'mean_switch_intensity']\n"
     ]
    }
   ],
   "source": [
    "print(list(consensusLcLMSIMI))"
   ]
  },
  {
   "cell_type": "code",
   "execution_count": 6,
   "id": "90530421-e469-452b-94c1-c2e3d1b0e5d9",
   "metadata": {},
   "outputs": [],
   "source": [
    "consensusLcLMSIMI = consensusLcLMSIMI.drop_duplicates('pair19')\n",
    "com=consensusLcLMSIMI.fillna(0)\n",
    "#From the analysis coming from the master Thesis we found these to be the best parameters for the consensusLcL CENTREMI.MSI model\n",
    "best_params = {'subsample': 0.9, 'reg_lambda': 0, 'n_estimators': 300, 'max_depth': 8, 'learning_rate': 0.1, 'gamma': 1.0, 'colsample_bytree': 0.9}\n"
   ]
  },
  {
   "cell_type": "code",
   "execution_count": 7,
   "id": "b7a8802f-b9f5-474b-9129-8aec6a74180f",
   "metadata": {},
   "outputs": [],
   "source": [
    "def CVF1results(com, best_params, test):\n",
    "\n",
    "    cv_names=com[\"CV\"].unique()\n",
    "    d = dict(tuple(com.groupby('CV')))\n",
    "    dtest = dict(tuple(test.groupby('CV')))\n",
    "    result_all_xgboost={}\n",
    "    result_all_tf={}\n",
    "    result_cv_xg=[]\n",
    "    result_cv_tf=[]\n",
    "    for i in range(len(cv_names)):\n",
    "        cv_test=cv_names[i]\n",
    "        print(cv_test)\n",
    "        cv_train=[x for k,x in enumerate(cv_names) if k!=i]\n",
    "        print(cv_train)\n",
    "        print(dtest.keys())\n",
    "        X_test_xg = dtest[cv_test].drop(['gene_id1', 'gene_id', 'symbol38', 'symbol19', 'pair', 'pair19', 'label', 'CV'], axis=1).copy()\n",
    "        y_test_xg = dtest[cv_test]['label'].copy()\n",
    "        train_xg=pd.concat({k: d[k] for k in cv_train})\n",
    "        X_train_xg= train_xg.drop(['gene_id1', 'gene_id', 'symbol38', 'symbol19', 'pair', 'pair19', 'label', 'CV'], axis=1).copy()\n",
    "        y_train_xg = train_xg['label'].copy()\n",
    "        clf_xgb = xgb.XGBClassifier(objective = \"binary:logistic\",scale_pos_weight=5,random_state=0,**best_params)\n",
    "        clf_xgb.fit(X_train_xg, y_train_xg)\n",
    "        pred_s = clf_xgb.predict_proba(X_test_xg)\n",
    "        lr_probs =pred_s[:, 1]\n",
    "        yhat = clf_xgb.predict(X_test_xg)\n",
    "        result_cv = pd.DataFrame({'pred_prob':lr_probs,'pred_label': yhat,'true_label':y_test_xg})\n",
    "        result_cv_xg.append(f1_score(result_cv['true_label'], result_cv['pred_label']))\n",
    "        result_all_xgboost[cv_test]=result_cv\n",
    "        \n",
    "\n",
    "\n",
    "\n",
    "    results_xg=pd.concat(result_all_xgboost)\n",
    "    \n",
    "    lr_precision_xg, lr_recall_xg, _ = precision_recall_curve(results_xg['true_label'], results_xg['pred_prob'])\n",
    "    lr_f1_xg, lr_auc_xg = f1_score(results_xg['true_label'], results_xg['pred_label']), auc(lr_recall_xg, lr_precision_xg)\n",
    "    print('xgboost HiC 12 fold CV:auc=%.3f' % lr_auc_xg)\n",
    "    print(lr_f1_xg)\n",
    "    print(result_cv_xg)\n",
    "\n",
    "    dist_precision, dist_recall, _=precision_recall_curve(com['label'],1/abs(com['distance']))\n",
    "    dist_auc = auc(dist_recall, dist_precision)\n",
    "    print('Distance:auc=%.3f' % (dist_auc))\n",
    "    return(lr_f1_xg, result_cv_xg)"
   ]
  },
  {
   "cell_type": "code",
   "execution_count": 12,
   "id": "489d6cde-5e9c-4406-92e0-3a3cc615824e",
   "metadata": {},
   "outputs": [
    {
     "name": "stdout",
     "output_type": "stream",
     "text": [
      "0                  Colon.GTEx-ovary\n",
      "1               Colon.GTEx-pancreas\n",
      "2                Colon.GTEx-stomach\n",
      "3          Ovary.GTEx-sigmoid-colon\n",
      "4                  Ovary.GTEx-ovary\n",
      "5               Ovary.GTEx-pancreas\n",
      "6                Ovary.GTEx-stomach\n",
      "7       Pancreas.GTEx-sigmoid-colon\n",
      "8               Pancreas.GTEx-ovary\n",
      "9            Pancreas.GTEx-pancreas\n",
      "10            Pancreas.GTEx-stomach\n",
      "11       Stomach.GTEx-sigmoid-colon\n",
      "12               Stomach.GTEx-ovary\n",
      "13            Stomach.GTEx-pancreas\n",
      "14             Stomach.GTEx-stomach\n",
      "15              GM12878.CHiC-IMR-90\n",
      "16                GM12878.CHiC-K562\n",
      "17      GM12878.CTCF-ChIAPET-IMR-90\n",
      "18        GM12878.CTCF-ChIAPET-K562\n",
      "19          GM12878.GEUVADIS-IMR-90\n",
      "20            GM12878.GEUVADIS-K562\n",
      "21               GM12878.HiC-IMR-90\n",
      "22                 GM12878.HiC-K562\n",
      "23    GM12878.RNAPII-ChIAPET-IMR-90\n",
      "24      GM12878.RNAPII-ChIAPET-K562\n",
      "25                IMR90.HiC-GM12878\n",
      "26                 IMR90.HiC-IMR-90\n",
      "27                   IMR90.HiC-K562\n",
      "28              K562.CRISPR-GM12878\n",
      "29               K562.CRISPR-IMR-90\n",
      "30                 K562.HiC-GM12878\n",
      "31                  K562.HiC-IMR-90\n",
      "Name: JoinedName, dtype: object\n"
     ]
    }
   ],
   "source": [
    "pathtometadata = \"/project/CRUP_scores/CENTRE_HiC/AcrossCTComparisonMSIMI/AcrossCTMetadata.csv\"\n",
    "metadata = pd.read_csv(pathtometadata, \n",
    "                         header=0, sep=',')\n",
    "print(metadata['JoinedName'])\n"
   ]
  },
  {
   "cell_type": "code",
   "execution_count": 14,
   "id": "9b10440a-90e8-4217-b717-e6cdd0a63486",
   "metadata": {},
   "outputs": [
    {
     "name": "stdout",
     "output_type": "stream",
     "text": [
      "['pair', 'gene_id1', 'gene_id', 'symbol38', 'symbol19', 'pair19', 'label', 'CV', 'EP_prob_enh.1', 'EP_prob_enh.2', 'EP_prob_enh.3', 'EP_prob_enh.4', 'EP_prob_enh.5', 'EP_prob_gene.1', 'EP_prob_gene.2', 'EP_prob_gene.3', 'EP_prob_gene.4', 'EP_prob_gene.5', 'PP_prob_enh.1', 'PP_prob_enh.2', 'PP_prob_enh.3', 'PP_prob_enh.4', 'PP_prob_enh.5', 'PP_prob_gene.1', 'PP_prob_gene.2', 'PP_prob_gene.3', 'PP_prob_gene.4', 'PP_prob_gene.5', 'distance', 'cor_CRUP', 'combined_tests', 'reg_dist_enh', 'norm_reg_dist_enh', 'reg_dist_prom', 'norm_reg_dist_prom', 'RNA_seq', 'min_insulation', 'mean_switch_intensity']\n",
      "cv-11\n",
      "['cv-0', 'cv-5', 'cv-10', 'cv-7', 'cv-2', 'cv-1', 'cv-9', 'cv-8', 'cv-3', 'cv-4', 'cv-6']\n",
      "dict_keys(['cv-0', 'cv-1', 'cv-10', 'cv-11', 'cv-2', 'cv-3', 'cv-4', 'cv-5', 'cv-6', 'cv-7', 'cv-8', 'cv-9'])\n"
     ]
    },
    {
     "ename": "KeyError",
     "evalue": "\"['CVnew', 'chr.x', 'chr.y'] not found in axis\"",
     "output_type": "error",
     "traceback": [
      "\u001b[0;31m---------------------------------------------------------------------------\u001b[0m",
      "\u001b[0;31mKeyError\u001b[0m                                  Traceback (most recent call last)",
      "Cell \u001b[0;32mIn[14], line 13\u001b[0m\n\u001b[1;32m     11\u001b[0m test\u001b[38;5;241m=\u001b[39mtest\u001b[38;5;241m.\u001b[39mfillna(\u001b[38;5;241m0\u001b[39m)\n\u001b[1;32m     12\u001b[0m test[\u001b[38;5;124m'\u001b[39m\u001b[38;5;124mdistance\u001b[39m\u001b[38;5;124m'\u001b[39m] \u001b[38;5;241m=\u001b[39mtest[\u001b[38;5;124m'\u001b[39m\u001b[38;5;124mdistance\u001b[39m\u001b[38;5;124m'\u001b[39m]\u001b[38;5;241m.\u001b[39mabs()\n\u001b[0;32m---> 13\u001b[0m lr_f1, resultcv  \u001b[38;5;241m=\u001b[39m CVF1results(com, best_params, test)\n\u001b[1;32m     14\u001b[0m numrows \u001b[38;5;241m=\u001b[39m \u001b[38;5;28mlen\u001b[39m(test)\n\u001b[1;32m     15\u001b[0m \u001b[38;5;66;03m#Dataframe for the current sample  \u001b[39;00m\n",
      "Cell \u001b[0;32mIn[7], line 16\u001b[0m, in \u001b[0;36mCVF1results\u001b[0;34m(com, best_params, test)\u001b[0m\n\u001b[1;32m     14\u001b[0m \u001b[38;5;28mprint\u001b[39m(cv_train)\n\u001b[1;32m     15\u001b[0m \u001b[38;5;28mprint\u001b[39m(dtest\u001b[38;5;241m.\u001b[39mkeys())\n\u001b[0;32m---> 16\u001b[0m X_test_xg \u001b[38;5;241m=\u001b[39m dtest[cv_test]\u001b[38;5;241m.\u001b[39mdrop([\u001b[38;5;124m'\u001b[39m\u001b[38;5;124mgene_id1\u001b[39m\u001b[38;5;124m'\u001b[39m, \u001b[38;5;124m'\u001b[39m\u001b[38;5;124mgene_id\u001b[39m\u001b[38;5;124m'\u001b[39m, \u001b[38;5;124m'\u001b[39m\u001b[38;5;124msymbol38\u001b[39m\u001b[38;5;124m'\u001b[39m, \u001b[38;5;124m'\u001b[39m\u001b[38;5;124msymbol19\u001b[39m\u001b[38;5;124m'\u001b[39m, \u001b[38;5;124m'\u001b[39m\u001b[38;5;124mpair\u001b[39m\u001b[38;5;124m'\u001b[39m, \u001b[38;5;124m'\u001b[39m\u001b[38;5;124mpair19\u001b[39m\u001b[38;5;124m'\u001b[39m, \u001b[38;5;124m'\u001b[39m\u001b[38;5;124mlabel\u001b[39m\u001b[38;5;124m'\u001b[39m, \u001b[38;5;124m'\u001b[39m\u001b[38;5;124mCV\u001b[39m\u001b[38;5;124m'\u001b[39m, \u001b[38;5;124m'\u001b[39m\u001b[38;5;124mCVnew\u001b[39m\u001b[38;5;124m'\u001b[39m, \u001b[38;5;124m'\u001b[39m\u001b[38;5;124mchr.x\u001b[39m\u001b[38;5;124m'\u001b[39m, \u001b[38;5;124m'\u001b[39m\u001b[38;5;124mchr.y\u001b[39m\u001b[38;5;124m'\u001b[39m], axis\u001b[38;5;241m=\u001b[39m\u001b[38;5;241m1\u001b[39m)\u001b[38;5;241m.\u001b[39mcopy()\n\u001b[1;32m     17\u001b[0m y_test_xg \u001b[38;5;241m=\u001b[39m dtest[cv_test][\u001b[38;5;124m'\u001b[39m\u001b[38;5;124mlabel\u001b[39m\u001b[38;5;124m'\u001b[39m]\u001b[38;5;241m.\u001b[39mcopy()\n\u001b[1;32m     18\u001b[0m train_xg\u001b[38;5;241m=\u001b[39mpd\u001b[38;5;241m.\u001b[39mconcat({k: d[k] \u001b[38;5;28;01mfor\u001b[39;00m k \u001b[38;5;129;01min\u001b[39;00m cv_train})\n",
      "File \u001b[0;32m~/anaconda3/lib/python3.11/site-packages/pandas/core/frame.py:5344\u001b[0m, in \u001b[0;36mDataFrame.drop\u001b[0;34m(self, labels, axis, index, columns, level, inplace, errors)\u001b[0m\n\u001b[1;32m   5196\u001b[0m \u001b[38;5;28;01mdef\u001b[39;00m \u001b[38;5;21mdrop\u001b[39m(\n\u001b[1;32m   5197\u001b[0m     \u001b[38;5;28mself\u001b[39m,\n\u001b[1;32m   5198\u001b[0m     labels: IndexLabel \u001b[38;5;241m|\u001b[39m \u001b[38;5;28;01mNone\u001b[39;00m \u001b[38;5;241m=\u001b[39m \u001b[38;5;28;01mNone\u001b[39;00m,\n\u001b[0;32m   (...)\u001b[0m\n\u001b[1;32m   5205\u001b[0m     errors: IgnoreRaise \u001b[38;5;241m=\u001b[39m \u001b[38;5;124m\"\u001b[39m\u001b[38;5;124mraise\u001b[39m\u001b[38;5;124m\"\u001b[39m,\n\u001b[1;32m   5206\u001b[0m ) \u001b[38;5;241m-\u001b[39m\u001b[38;5;241m>\u001b[39m DataFrame \u001b[38;5;241m|\u001b[39m \u001b[38;5;28;01mNone\u001b[39;00m:\n\u001b[1;32m   5207\u001b[0m \u001b[38;5;250m    \u001b[39m\u001b[38;5;124;03m\"\"\"\u001b[39;00m\n\u001b[1;32m   5208\u001b[0m \u001b[38;5;124;03m    Drop specified labels from rows or columns.\u001b[39;00m\n\u001b[1;32m   5209\u001b[0m \n\u001b[0;32m   (...)\u001b[0m\n\u001b[1;32m   5342\u001b[0m \u001b[38;5;124;03m            weight  1.0     0.8\u001b[39;00m\n\u001b[1;32m   5343\u001b[0m \u001b[38;5;124;03m    \"\"\"\u001b[39;00m\n\u001b[0;32m-> 5344\u001b[0m     \u001b[38;5;28;01mreturn\u001b[39;00m \u001b[38;5;28msuper\u001b[39m()\u001b[38;5;241m.\u001b[39mdrop(\n\u001b[1;32m   5345\u001b[0m         labels\u001b[38;5;241m=\u001b[39mlabels,\n\u001b[1;32m   5346\u001b[0m         axis\u001b[38;5;241m=\u001b[39maxis,\n\u001b[1;32m   5347\u001b[0m         index\u001b[38;5;241m=\u001b[39mindex,\n\u001b[1;32m   5348\u001b[0m         columns\u001b[38;5;241m=\u001b[39mcolumns,\n\u001b[1;32m   5349\u001b[0m         level\u001b[38;5;241m=\u001b[39mlevel,\n\u001b[1;32m   5350\u001b[0m         inplace\u001b[38;5;241m=\u001b[39minplace,\n\u001b[1;32m   5351\u001b[0m         errors\u001b[38;5;241m=\u001b[39merrors,\n\u001b[1;32m   5352\u001b[0m     )\n",
      "File \u001b[0;32m~/anaconda3/lib/python3.11/site-packages/pandas/core/generic.py:4711\u001b[0m, in \u001b[0;36mNDFrame.drop\u001b[0;34m(self, labels, axis, index, columns, level, inplace, errors)\u001b[0m\n\u001b[1;32m   4709\u001b[0m \u001b[38;5;28;01mfor\u001b[39;00m axis, labels \u001b[38;5;129;01min\u001b[39;00m axes\u001b[38;5;241m.\u001b[39mitems():\n\u001b[1;32m   4710\u001b[0m     \u001b[38;5;28;01mif\u001b[39;00m labels \u001b[38;5;129;01mis\u001b[39;00m \u001b[38;5;129;01mnot\u001b[39;00m \u001b[38;5;28;01mNone\u001b[39;00m:\n\u001b[0;32m-> 4711\u001b[0m         obj \u001b[38;5;241m=\u001b[39m obj\u001b[38;5;241m.\u001b[39m_drop_axis(labels, axis, level\u001b[38;5;241m=\u001b[39mlevel, errors\u001b[38;5;241m=\u001b[39merrors)\n\u001b[1;32m   4713\u001b[0m \u001b[38;5;28;01mif\u001b[39;00m inplace:\n\u001b[1;32m   4714\u001b[0m     \u001b[38;5;28mself\u001b[39m\u001b[38;5;241m.\u001b[39m_update_inplace(obj)\n",
      "File \u001b[0;32m~/anaconda3/lib/python3.11/site-packages/pandas/core/generic.py:4753\u001b[0m, in \u001b[0;36mNDFrame._drop_axis\u001b[0;34m(self, labels, axis, level, errors, only_slice)\u001b[0m\n\u001b[1;32m   4751\u001b[0m         new_axis \u001b[38;5;241m=\u001b[39m axis\u001b[38;5;241m.\u001b[39mdrop(labels, level\u001b[38;5;241m=\u001b[39mlevel, errors\u001b[38;5;241m=\u001b[39merrors)\n\u001b[1;32m   4752\u001b[0m     \u001b[38;5;28;01melse\u001b[39;00m:\n\u001b[0;32m-> 4753\u001b[0m         new_axis \u001b[38;5;241m=\u001b[39m axis\u001b[38;5;241m.\u001b[39mdrop(labels, errors\u001b[38;5;241m=\u001b[39merrors)\n\u001b[1;32m   4754\u001b[0m     indexer \u001b[38;5;241m=\u001b[39m axis\u001b[38;5;241m.\u001b[39mget_indexer(new_axis)\n\u001b[1;32m   4756\u001b[0m \u001b[38;5;66;03m# Case for non-unique axis\u001b[39;00m\n\u001b[1;32m   4757\u001b[0m \u001b[38;5;28;01melse\u001b[39;00m:\n",
      "File \u001b[0;32m~/anaconda3/lib/python3.11/site-packages/pandas/core/indexes/base.py:7000\u001b[0m, in \u001b[0;36mIndex.drop\u001b[0;34m(self, labels, errors)\u001b[0m\n\u001b[1;32m   6998\u001b[0m \u001b[38;5;28;01mif\u001b[39;00m mask\u001b[38;5;241m.\u001b[39many():\n\u001b[1;32m   6999\u001b[0m     \u001b[38;5;28;01mif\u001b[39;00m errors \u001b[38;5;241m!=\u001b[39m \u001b[38;5;124m\"\u001b[39m\u001b[38;5;124mignore\u001b[39m\u001b[38;5;124m\"\u001b[39m:\n\u001b[0;32m-> 7000\u001b[0m         \u001b[38;5;28;01mraise\u001b[39;00m \u001b[38;5;167;01mKeyError\u001b[39;00m(\u001b[38;5;124mf\u001b[39m\u001b[38;5;124m\"\u001b[39m\u001b[38;5;132;01m{\u001b[39;00mlabels[mask]\u001b[38;5;241m.\u001b[39mtolist()\u001b[38;5;132;01m}\u001b[39;00m\u001b[38;5;124m not found in axis\u001b[39m\u001b[38;5;124m\"\u001b[39m)\n\u001b[1;32m   7001\u001b[0m     indexer \u001b[38;5;241m=\u001b[39m indexer[\u001b[38;5;241m~\u001b[39mmask]\n\u001b[1;32m   7002\u001b[0m \u001b[38;5;28;01mreturn\u001b[39;00m \u001b[38;5;28mself\u001b[39m\u001b[38;5;241m.\u001b[39mdelete(indexer)\n",
      "\u001b[0;31mKeyError\u001b[0m: \"['CVnew', 'chr.x', 'chr.y'] not found in axis\""
     ]
    }
   ],
   "source": [
    "##calculate F1 for mixed CT benchmarks\n",
    "pathBenchmark = \"/project/CRUP_scores/CENTRE_HiC/AcrossCTComparisonMSIMI/BENGI_MI_MSI_acrossCT/\"\n",
    "f1data = pd.DataFrame(columns = [\"SampleBENGI\",\"SampleMSIMI\", \"F1_Score_MIMSI\", \"NumRows\"])\n",
    "\n",
    "for sample in metadata['JoinedName']:\n",
    "    test = pd.read_csv(pathBenchmark+\n",
    "                       sample +\n",
    "                       '.MIMSI.csv', \n",
    "                         header=0, sep=',')\n",
    "    print(list(test))\n",
    "    test=test.fillna(0)\n",
    "    test['distance'] =test['distance'].abs()\n",
    "    lr_f1, resultcv  = CVF1results(com, best_params, test)\n",
    "    numrows = len(test)\n",
    "    #Dataframe for the current sample  \n",
    "    f1data1 = pd.DataFrame()\n",
    "    f1data1['SampleBENGI'] = [samplebengi]*12\n",
    "    f1data1['SampleMSIMI'] = [samplehic]*12\n",
    "    f1data1['F1_Score_MIMSI'] = resultcv\n",
    "    f1data1['NumRows'] = [numrows]*12\n",
    "    # Concatenate with big dataframe\n",
    "    print(f1data1)\n",
    "    f1data1.to_csv('/project/CRUP_scores/CENTRE_HiC/Training/CENTRE_final_training/F1scoresAcrossCT/' +\n",
    "                   sample +\n",
    "                   '_f1scores.csv')\n",
    "    f1data = pd.concat([f1data, f1data1], ignore_index = True)\n",
    "            \n",
    "\n",
    "f1data.to_csv('/project/CRUP_scores/CENTRE_HiC/Training/CENTRE_final_training/F1scoresAcrossCT/F1scoresAllCT.csv')"
   ]
  },
  {
   "cell_type": "code",
   "execution_count": 9,
   "id": "58f2f132-c7ef-4e79-90e9-35bbc087a74b",
   "metadata": {},
   "outputs": [],
   "source": [
    "f1data.to_csv('/project/CRUP_scores/CENTRE_HiC/Training/CENTRE_final_training/f1_consensusLcL.csv')"
   ]
  },
  {
   "cell_type": "code",
   "execution_count": 57,
   "id": "47613c15-498c-423a-924a-b31446f54f88",
   "metadata": {},
   "outputs": [
    {
     "name": "stdout",
     "output_type": "stream",
     "text": [
      "['gene_id1', 'gene_id', 'symbol38', 'symbol19', 'pair', 'pair19', 'label', 'CV', 'EP_prob_enh.1', 'EP_prob_enh.2', 'EP_prob_enh.3', 'EP_prob_enh.4', 'EP_prob_enh.5', 'EP_prob_gene.1', 'EP_prob_gene.2', 'EP_prob_gene.3', 'EP_prob_gene.4', 'EP_prob_gene.5', 'PP_prob_enh.1', 'PP_prob_enh.2', 'PP_prob_enh.3', 'PP_prob_enh.4', 'PP_prob_enh.5', 'PP_prob_gene.1', 'PP_prob_gene.2', 'PP_prob_gene.3', 'PP_prob_gene.4', 'PP_prob_gene.5', 'distance', 'cor_CRUP', 'combined_tests', 'reg_dist_enh', 'norm_reg_dist_enh', 'reg_dist_prom', 'norm_reg_dist_prom', 'RNA_seq', 'min_insulation', 'mean_switch_intensity', 'chr.x', 'chr.y']\n"
     ]
    }
   ],
   "source": [
    "test = pd.read_csv('/project/CRUP_scores/CENTRE_HiC/Training/BENGI_MSI_MI_acrossCT/'\n",
    "                   \"Colon.GTEx\"+\n",
    "                   'BENGI_'+\n",
    "                   \"GM12878.HiC\"+\n",
    "                   'MIMSI.csv', \n",
    "                   header=0, sep=' ')\n",
    "print((list(test)))"
   ]
  }
 ],
 "metadata": {
  "kernelspec": {
   "display_name": "Python 3 (ipykernel)",
   "language": "python",
   "name": "python3"
  },
  "language_info": {
   "codemirror_mode": {
    "name": "ipython",
    "version": 3
   },
   "file_extension": ".py",
   "mimetype": "text/x-python",
   "name": "python",
   "nbconvert_exporter": "python",
   "pygments_lexer": "ipython3",
   "version": "3.11.7"
  }
 },
 "nbformat": 4,
 "nbformat_minor": 5
}
