{
 "cells": [
  {
   "cell_type": "code",
   "execution_count": 1,
   "id": "c32a292b-8030-447c-8d18-912f063bd295",
   "metadata": {},
   "outputs": [],
   "source": [
    "import pandas as pd\n",
    "from sklearn.ensemble import GradientBoostingClassifier\n",
    "import numpy as np # calculate the mean and standard deviation\n",
    "import xgboost as xgb # XGBoost stuff\n",
    "from xgboost import plot_importance\n",
    "from sklearn.model_selection import train_test_split # split  data into training and testing sets\n",
    "from sklearn.model_selection import RandomizedSearchCV\n",
    "from sklearn.model_selection import GridSearchCV # cross validation\n",
    "from sklearn.metrics import confusion_matrix # creates a confusion matrix\n",
    "#from sklearn.metrics import plot_confusion_matrix # draws a confusion matrix\n",
    "from sklearn.metrics import precision_recall_curve\n",
    "from sklearn.metrics import f1_score\n",
    "from sklearn.metrics import auc\n",
    "from matplotlib import pyplot\n",
    "from sklearn.model_selection import StratifiedKFold\n",
    "from sklearn.model_selection import StratifiedKFold, cross_val_score\n",
    "from numpy import sort"
   ]
  },
  {
   "cell_type": "code",
   "execution_count": 2,
   "id": "8f62042e-0752-433d-9775-031ddbb2a9d5",
   "metadata": {},
   "outputs": [],
   "source": [
    "#### Load the CENTRE.MI.MSI classifier\n",
    "CENTREMIMSI = xgb.Booster()\n",
    "CENTREMIMSI.load_model(\"/home/lopez_s/CRUP_scores/CENTRE_HiC/Training/CENTRE_HiC_classifiers/consensusLcL10kb_model.txt\")"
   ]
  },
  {
   "cell_type": "code",
   "execution_count": 3,
   "id": "5df18cdd-7d99-4bbc-9d81-16ac78ae9ed7",
   "metadata": {},
   "outputs": [],
   "source": [
    "### load IMR-90 and GM12878\n",
    "\n",
    "imr90 = pd.read_csv(\"/project/CRUP_scores/CENTRE_HiC/Training/BENGI_MSI_MI_datasets/10Kb/IMR90.HiC-Benchmark.MI.MSI.v38.csv\", \n",
    "                 header=0, sep=',')\n",
    "\n",
    "gm = pd.read_csv(\"/project/CRUP_scores/CENTRE_HiC/Training/BENGI_MSI_MI_datasets/10Kb/GM12878.RNAPII-ChIAPET-Benchmark.MI.MSI.v38.csv\", \n",
    "                 header=0, sep=',')\n",
    "\n",
    "k562 = pd.read_csv(\"/project/CRUP_scores/CENTRE_HiC/Training/BENGI_MSI_MI_datasets/10Kb/K562.HiC-Benchmark.MI.MSI.v38.csv\", \n",
    "                 header=0, sep=',')"
   ]
  },
  {
   "cell_type": "code",
   "execution_count": 6,
   "id": "1ec1cec2-abd9-433e-9c1e-fc169d5a24ea",
   "metadata": {},
   "outputs": [],
   "source": [
    "imr90_test= imr90.drop(['gene_id1','gene_id','symbol38','symbol19','pair','pair19','label','CV'], axis=1).copy()\n",
    "predictionsimr90 = CENTREMIMSI.predict(xgb.DMatrix(imr90_test)) \n",
    "imr90['predictions'] = predictionsimr90"
   ]
  },
  {
   "cell_type": "code",
   "execution_count": 7,
   "id": "f65b7ef3-4213-4d92-91f6-8fcc3e2253db",
   "metadata": {},
   "outputs": [],
   "source": [
    "gm_test= gm.drop(['gene_id1','gene_id','symbol38','symbol19','pair','pair19','label','CV'], axis=1).copy()\n",
    "predictionsgm = CENTREMIMSI.predict(xgb.DMatrix(gm_test)) \n",
    "gm['predictions'] = predictionsgm"
   ]
  },
  {
   "cell_type": "code",
   "execution_count": 4,
   "id": "caee8257-970b-4afd-ac18-be7ce5f48c44",
   "metadata": {},
   "outputs": [],
   "source": [
    "k562_test= k562.drop(['gene_id1','gene_id','symbol38','symbol19','pair','pair19','label','CV'], axis=1).copy()\n",
    "predictionsk562 = CENTREMIMSI.predict(xgb.DMatrix(k562_test)) \n",
    "k562['predictions'] = predictionsk562"
   ]
  },
  {
   "cell_type": "code",
   "execution_count": 5,
   "id": "296d807b-e2a1-4563-a6c8-5948ada87377",
   "metadata": {},
   "outputs": [],
   "source": [
    "#gm.to_csv('/project/CRUP_scores/CENTRE_HiC/Training/GM12878RNAPII.pred')\n",
    "#imr90.to_csv('/project/CRUP_scores/CENTRE_HiC/Training/IMR90HiC.pred')\n",
    "k562.to_csv('/project/CRUP_scores/CENTRE_HiC/Training/K562HiC.pred')"
   ]
  },
  {
   "cell_type": "code",
   "execution_count": 18,
   "id": "a3219132-9ae9-43f4-9e19-8525f480d7a3",
   "metadata": {},
   "outputs": [
    {
     "data": {
      "text/html": [
       "<div>\n",
       "<style scoped>\n",
       "    .dataframe tbody tr th:only-of-type {\n",
       "        vertical-align: middle;\n",
       "    }\n",
       "\n",
       "    .dataframe tbody tr th {\n",
       "        vertical-align: top;\n",
       "    }\n",
       "\n",
       "    .dataframe thead th {\n",
       "        text-align: right;\n",
       "    }\n",
       "</style>\n",
       "<table border=\"1\" class=\"dataframe\">\n",
       "  <thead>\n",
       "    <tr style=\"text-align: right;\">\n",
       "      <th></th>\n",
       "      <th>predictions</th>\n",
       "      <th>pair</th>\n",
       "    </tr>\n",
       "  </thead>\n",
       "  <tbody>\n",
       "    <tr>\n",
       "      <th>8147</th>\n",
       "      <td>0.745484</td>\n",
       "      <td>EH38E2456444_ENSG00000197903,EH38E2456443_ENSG...</td>\n",
       "    </tr>\n",
       "    <tr>\n",
       "      <th>8170</th>\n",
       "      <td>0.068239</td>\n",
       "      <td>EH38E2456608_ENSG00000197903</td>\n",
       "    </tr>\n",
       "    <tr>\n",
       "      <th>23164</th>\n",
       "      <td>0.903869</td>\n",
       "      <td>EH38E3698126_ENSG00000197903</td>\n",
       "    </tr>\n",
       "    <tr>\n",
       "      <th>23196</th>\n",
       "      <td>0.064535</td>\n",
       "      <td>EH38E3698278_ENSG00000197903</td>\n",
       "    </tr>\n",
       "    <tr>\n",
       "      <th>23242</th>\n",
       "      <td>0.015902</td>\n",
       "      <td>EH38E3698280_ENSG00000197903,EH38E3698279_ENSG...</td>\n",
       "    </tr>\n",
       "    <tr>\n",
       "      <th>23266</th>\n",
       "      <td>0.030947</td>\n",
       "      <td>EH38E3698282_ENSG00000197903</td>\n",
       "    </tr>\n",
       "  </tbody>\n",
       "</table>\n",
       "</div>"
      ],
      "text/plain": [
       "       predictions                                               pair\n",
       "8147      0.745484  EH38E2456444_ENSG00000197903,EH38E2456443_ENSG...\n",
       "8170      0.068239                       EH38E2456608_ENSG00000197903\n",
       "23164     0.903869                       EH38E3698126_ENSG00000197903\n",
       "23196     0.064535                       EH38E3698278_ENSG00000197903\n",
       "23242     0.015902  EH38E3698280_ENSG00000197903,EH38E3698279_ENSG...\n",
       "23266     0.030947                       EH38E3698282_ENSG00000197903"
      ]
     },
     "execution_count": 18,
     "metadata": {},
     "output_type": "execute_result"
    }
   ],
   "source": [
    "gmcand[['predictions', 'pair']] #EH38E3698126 prob 0.83\n",
    "imr90cand[['predictions', 'pair']] ## prob 0.90"
   ]
  },
  {
   "cell_type": "code",
   "execution_count": 39,
   "id": "b6bd475e-69bc-40d2-9a86-fac57ff34e09",
   "metadata": {},
   "outputs": [],
   "source": [
    "gmcand = gm.loc[gm['gene_id1'] == \"ENSG00000180398\"]\n",
    "imr90cand = imr90.loc[imr90['gene_id1'] == \"ENSG00000180398\"]"
   ]
  },
  {
   "cell_type": "code",
   "execution_count": 40,
   "id": "ce2af28d-cbdd-41db-b08d-e4e3e79f2a63",
   "metadata": {},
   "outputs": [
    {
     "data": {
      "text/html": [
       "<div>\n",
       "<style scoped>\n",
       "    .dataframe tbody tr th:only-of-type {\n",
       "        vertical-align: middle;\n",
       "    }\n",
       "\n",
       "    .dataframe tbody tr th {\n",
       "        vertical-align: top;\n",
       "    }\n",
       "\n",
       "    .dataframe thead th {\n",
       "        text-align: right;\n",
       "    }\n",
       "</style>\n",
       "<table border=\"1\" class=\"dataframe\">\n",
       "  <thead>\n",
       "    <tr style=\"text-align: right;\">\n",
       "      <th></th>\n",
       "      <th>predictions</th>\n",
       "      <th>pair</th>\n",
       "    </tr>\n",
       "  </thead>\n",
       "  <tbody>\n",
       "    <tr>\n",
       "      <th>22608</th>\n",
       "      <td>0.959603</td>\n",
       "      <td>EH38E1995459_ENSG00000180398</td>\n",
       "    </tr>\n",
       "    <tr>\n",
       "      <th>84296</th>\n",
       "      <td>0.434875</td>\n",
       "      <td>EH38E3342183_ENSG00000180398</td>\n",
       "    </tr>\n",
       "    <tr>\n",
       "      <th>84308</th>\n",
       "      <td>0.938257</td>\n",
       "      <td>EH38E3342228_ENSG00000180398,EH38E3342227_ENSG...</td>\n",
       "    </tr>\n",
       "    <tr>\n",
       "      <th>84315</th>\n",
       "      <td>0.967693</td>\n",
       "      <td>EH38E3342231_ENSG00000180398</td>\n",
       "    </tr>\n",
       "    <tr>\n",
       "      <th>84328</th>\n",
       "      <td>0.894997</td>\n",
       "      <td>EH38E3342236_ENSG00000180398,EH38E3342235_ENSG...</td>\n",
       "    </tr>\n",
       "  </tbody>\n",
       "</table>\n",
       "</div>"
      ],
      "text/plain": [
       "       predictions                                               pair\n",
       "22608     0.959603                       EH38E1995459_ENSG00000180398\n",
       "84296     0.434875                       EH38E3342183_ENSG00000180398\n",
       "84308     0.938257  EH38E3342228_ENSG00000180398,EH38E3342227_ENSG...\n",
       "84315     0.967693                       EH38E3342231_ENSG00000180398\n",
       "84328     0.894997  EH38E3342236_ENSG00000180398,EH38E3342235_ENSG..."
      ]
     },
     "execution_count": 40,
     "metadata": {},
     "output_type": "execute_result"
    }
   ],
   "source": [
    "gmcand[['predictions', 'pair']] #0.90"
   ]
  },
  {
   "cell_type": "code",
   "execution_count": 41,
   "id": "62c0a7e9-5e2a-4306-9037-5155d3797bee",
   "metadata": {},
   "outputs": [
    {
     "data": {
      "text/html": [
       "<div>\n",
       "<style scoped>\n",
       "    .dataframe tbody tr th:only-of-type {\n",
       "        vertical-align: middle;\n",
       "    }\n",
       "\n",
       "    .dataframe tbody tr th {\n",
       "        vertical-align: top;\n",
       "    }\n",
       "\n",
       "    .dataframe thead th {\n",
       "        text-align: right;\n",
       "    }\n",
       "</style>\n",
       "<table border=\"1\" class=\"dataframe\">\n",
       "  <thead>\n",
       "    <tr style=\"text-align: right;\">\n",
       "      <th></th>\n",
       "      <th>predictions</th>\n",
       "      <th>pair</th>\n",
       "    </tr>\n",
       "  </thead>\n",
       "  <tbody>\n",
       "    <tr>\n",
       "      <th>4930</th>\n",
       "      <td>0.213040</td>\n",
       "      <td>EH38E1995757_ENSG00000180398</td>\n",
       "    </tr>\n",
       "    <tr>\n",
       "      <th>19197</th>\n",
       "      <td>0.899676</td>\n",
       "      <td>EH38E3342231_ENSG00000180398</td>\n",
       "    </tr>\n",
       "    <tr>\n",
       "      <th>19218</th>\n",
       "      <td>0.929836</td>\n",
       "      <td>EH38E3342232_ENSG00000180398</td>\n",
       "    </tr>\n",
       "  </tbody>\n",
       "</table>\n",
       "</div>"
      ],
      "text/plain": [
       "       predictions                          pair\n",
       "4930      0.213040  EH38E1995757_ENSG00000180398\n",
       "19197     0.899676  EH38E3342231_ENSG00000180398\n",
       "19218     0.929836  EH38E3342232_ENSG00000180398"
      ]
     },
     "execution_count": 41,
     "metadata": {},
     "output_type": "execute_result"
    }
   ],
   "source": [
    "imr90cand[['predictions', 'pair' ]] ## 0.32"
   ]
  },
  {
   "cell_type": "code",
   "execution_count": null,
   "id": "93d4e5b2-1047-4e96-ba47-c7cb686ab7d2",
   "metadata": {},
   "outputs": [],
   "source": []
  }
 ],
 "metadata": {
  "kernelspec": {
   "display_name": "Python 3 (ipykernel)",
   "language": "python",
   "name": "python3"
  },
  "language_info": {
   "codemirror_mode": {
    "name": "ipython",
    "version": 3
   },
   "file_extension": ".py",
   "mimetype": "text/x-python",
   "name": "python",
   "nbconvert_exporter": "python",
   "pygments_lexer": "ipython3",
   "version": "3.10.12"
  }
 },
 "nbformat": 4,
 "nbformat_minor": 5
}
